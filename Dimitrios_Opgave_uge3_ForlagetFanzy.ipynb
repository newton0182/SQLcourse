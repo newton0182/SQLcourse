{
    "metadata": {
        "kernelspec": {
            "name": "SQL",
            "display_name": "SQL",
            "language": "sql"
        },
        "language_info": {
            "name": "sql",
            "version": ""
        }
    },
    "nbformat_minor": 2,
    "nbformat": 4,
    "cells": [
        {
            "cell_type": "markdown",
            "source": [
                "### Ny Database"
            ],
            "metadata": {
                "azdata_cell_guid": "58d420d2-4a10-40d9-a937-d91cc442f6d5"
            }
        },
        {
            "cell_type": "code",
            "source": [
                "-- Create a new database called 'ForlagetFanzy_Opgave'\r\n",
                "-- Connect to the 'master' database to run this snippet\r\n",
                "USE master\r\n",
                "GO\r\n",
                "-- Create the new database if it does not exist already\r\n",
                "IF NOT EXISTS (\r\n",
                "    SELECT [name]\r\n",
                "        FROM sys.databases\r\n",
                "        WHERE [name] = N'ForlagetFanzy_Opgave'\r\n",
                ")\r\n",
                "CREATE DATABASE ForlagetFanzy_Opgave\r\n",
                "GO"
            ],
            "metadata": {
                "azdata_cell_guid": "fb58c04e-cafa-4b01-9f6b-12358755fd93"
            },
            "outputs": [
                {
                    "output_type": "display_data",
                    "data": {
                        "text/html": "Commands completed successfully."
                    },
                    "metadata": {}
                },
                {
                    "output_type": "display_data",
                    "data": {
                        "text/html": "Commands completed successfully."
                    },
                    "metadata": {}
                },
                {
                    "output_type": "display_data",
                    "data": {
                        "text/html": "Total execution time: 00:00:00.133"
                    },
                    "metadata": {}
                }
            ],
            "execution_count": 1
        },
        {
            "cell_type": "markdown",
            "source": [
                "### Forfattertabellen"
            ],
            "metadata": {
                "azdata_cell_guid": "72021a4f-d635-4826-bed8-6e8dbc7545ce"
            }
        },
        {
            "cell_type": "code",
            "source": [
                "-- Create a new table called '[Forfatter]' in schema '[dbo]'\r\n",
                "\r\n",
                "USE [ForlagetFanzy_Opgave]\r\n",
                "\r\n",
                "-- Drop the table if it already exists\r\n",
                "IF OBJECT_ID('[dbo].[Forfatter]', 'U') IS NOT NULL\r\n",
                "DROP TABLE [dbo].[Forfatter]\r\n",
                "GO\r\n",
                "\r\n",
                "CREATE TABLE [dbo].[Forfatter]\r\n",
                "(\r\n",
                "    [ID] INT IDENTITY(1,1) NOT NULL PRIMARY KEY, \r\n",
                "    [First_name] NVARCHAR(50) NOT NULL,\r\n",
                "    [Surname] NVARCHAR(50) NOT NULL,\r\n",
                "    [email] NVARCHAR(50) UNIQUE NOT NULL\r\n",
                ");\r\n",
                "GO\r\n",
                "\r\n",
                "-- Insert rows into table 'Forfatter' in schema '[dbo]'\r\n",
                "INSERT INTO [dbo].[Forfatter]\r\n",
                "(\r\n",
                " [First_name], [Surname], [email]\r\n",
                ")\r\n",
                "VALUES\r\n",
                "( \r\n",
                "    'John', 'Smith', 'johnsmith1982@hotmail.com'\r\n",
                "),\r\n",
                "( \r\n",
                "    'Erik', 'Torssøn', 'eriktorssoen1956@hotmail.com'\r\n",
                "),\r\n",
                "( \r\n",
                "    N'Δημήτριος', N'Χαντζιάρας', 'dimitrios.ch@greeksouvlaki.gr'\r\n",
                "),\r\n",
                "( \r\n",
                "    N'Влади́мир', N'Медве́дев', 'vladimir.medvedev@cccp.ru'\r\n",
                "),\r\n",
                "( \r\n",
                "    'Guðrún', 'Þórðardóttir', 'thegudrunsaga@gmail.com'\r\n",
                ")\r\n",
                "\r\n",
                "-- View the table\r\n",
                "SELECT TOP(10) [ID], [First_name], [Surname], [email]\r\n",
                "FROM [dbo].[Forfatter]\r\n",
                " "
            ],
            "metadata": {
                "azdata_cell_guid": "00e928bc-a5af-48fb-ba85-9ecc297ed4c9"
            },
            "outputs": [
                {
                    "output_type": "display_data",
                    "data": {
                        "text/html": "Commands completed successfully."
                    },
                    "metadata": {}
                },
                {
                    "output_type": "display_data",
                    "data": {
                        "text/html": "Commands completed successfully."
                    },
                    "metadata": {}
                },
                {
                    "output_type": "display_data",
                    "data": {
                        "text/html": "(5 rows affected)"
                    },
                    "metadata": {}
                },
                {
                    "output_type": "display_data",
                    "data": {
                        "text/html": "(5 rows affected)"
                    },
                    "metadata": {}
                },
                {
                    "output_type": "display_data",
                    "data": {
                        "text/html": "Total execution time: 00:00:00.005"
                    },
                    "metadata": {}
                },
                {
                    "output_type": "execute_result",
                    "metadata": {},
                    "execution_count": 7,
                    "data": {
                        "application/vnd.dataresource+json": {
                            "schema": {
                                "fields": [
                                    {
                                        "name": "ID"
                                    },
                                    {
                                        "name": "First_name"
                                    },
                                    {
                                        "name": "Surname"
                                    },
                                    {
                                        "name": "email"
                                    }
                                ]
                            },
                            "data": [
                                {
                                    "0": "1",
                                    "1": "John",
                                    "2": "Smith",
                                    "3": "johnsmith1982@hotmail.com"
                                },
                                {
                                    "0": "2",
                                    "1": "Erik",
                                    "2": "Torssøn",
                                    "3": "eriktorssoen1956@hotmail.com"
                                },
                                {
                                    "0": "3",
                                    "1": "Δημήτριος",
                                    "2": "Χαντζιάρας",
                                    "3": "dimitrios.ch@greeksouvlaki.gr"
                                },
                                {
                                    "0": "4",
                                    "1": "Влади́мир",
                                    "2": "Медве́дев",
                                    "3": "vladimir.medvedev@cccp.ru"
                                },
                                {
                                    "0": "5",
                                    "1": "Guðrún",
                                    "2": "Þórðardóttir",
                                    "3": "thegudrunsaga@gmail.com"
                                }
                            ]
                        },
                        "text/html": [
                            "<table>",
                            "<tr><th>ID</th><th>First_name</th><th>Surname</th><th>email</th></tr>",
                            "<tr><td>1</td><td>John</td><td>Smith</td><td>johnsmith1982@hotmail.com</td></tr>",
                            "<tr><td>2</td><td>Erik</td><td>Torssøn</td><td>eriktorssoen1956@hotmail.com</td></tr>",
                            "<tr><td>3</td><td>Δημήτριος</td><td>Χαντζιάρας</td><td>dimitrios.ch@greeksouvlaki.gr</td></tr>",
                            "<tr><td>4</td><td>Влади́мир</td><td>Медве́дев</td><td>vladimir.medvedev@cccp.ru</td></tr>",
                            "<tr><td>5</td><td>Guðrún</td><td>Þórðardóttir</td><td>thegudrunsaga@gmail.com</td></tr>",
                            "</table>"
                        ]
                    }
                }
            ],
            "execution_count": 7
        },
        {
            "cell_type": "markdown",
            "source": [
                "### Bogtabellen"
            ],
            "metadata": {
                "azdata_cell_guid": "55d308f8-e2b5-43eb-945c-b5433d649a47"
            }
        },
        {
            "cell_type": "code",
            "source": [
                "-- Create a new table called '[bog]' in schema '[dbo]'\r\n",
                "\r\n",
                "USE [ForlagetFanzy_Opgave]\r\n",
                "\r\n",
                "-- Drop the table if it already exists\r\n",
                "IF OBJECT_ID('[dbo].[bog]', 'U') IS NOT NULL\r\n",
                "DROP TABLE [dbo].[bog]\r\n",
                "GO\r\n",
                "\r\n",
                "CREATE TABLE [dbo].[bog]\r\n",
                "(\r\n",
                "    [ID] INT IDENTITY(1,1) NOT NULL PRIMARY KEY, \r\n",
                "    [Title] NVARCHAR(50) NOT NULL,\r\n",
                "    [Summary] NVARCHAR(1000) NOT NULL,\r\n",
                "    [ISBN13] CHAR(13) UNIQUE NOT NULL,\r\n",
                "    [Sales_price] DECIMAL(10,2) NOT NULL\r\n",
                ");\r\n",
                "GO\r\n",
                "\r\n",
                "-- Insert rows into table 'bog' in schema '[dbo]'\r\n",
                "INSERT INTO [dbo].[bog]\r\n",
                "(\r\n",
                " [Title], \n",
                " [Summary], \n",
                " [Sales_price], \n",
                " [ISBN13]\r\n",
                ")\r\n",
                "VALUES\r\n",
                "( \r\n",
                "    'The anodic cathode', \n",
                "    'At vero eos et accusamus et iusto odio dignissimos ducimus qui blanditiis praesentium voluptatum deleniti atque corrupti quos dolores et quas molestias excepturi sint occaecati cupiditate non provident, similique sunt in culpa qui officia deserunt mollitia animi, id est laborum et dolorum fuga.',\n",
                "    250.45,\n",
                "    '9781234567897'\n",
                "),\r\n",
                "( \r\n",
                "    'The dry sea', \n",
                "    'Et harum quidem rerum facilis est et expedita distinctio. Nam libero tempore, cum soluta nobis est eligendi optio cumque nihil impedit quo minus id quod maxime placeat facere possimus, omnis voluptas assumenda est, omnis dolor repellendus.',\n",
                "    300.99,\n",
                "    '9781234567425'\n",
                "),\r\n",
                "( \r\n",
                "    'The anabatic katabasis', \n",
                "    'Temporibus autem quibusdam et aut officiis debitis aut rerum necessitatibus saepe eveniet ut et voluptates repudiandae sint et molestiae non recusandae.',\n",
                "    99.15,\n",
                "    '9781234567322'\n",
                "),\r\n",
                "( \r\n",
                "    'The magic trombone', \n",
                "    'Itaque earum rerum hic tenetur a sapiente delectus, ut aut reiciendis voluptatibus maiores alias consequatur aut perferendis doloribus asperiores repellat.',\n",
                "    420.44,\n",
                "    '9781234567758'\n",
                "),\r\n",
                "( \r\n",
                "    'Also sprach Herr Lustra', \n",
                "    'Sed ut perspiciatis unde omnis iste natus error sit voluptatem accusantium doloremque laudantium, totam rem aperiam, eaque ipsa quae ab illo inventore veritatis et quasi architecto beatae vitae dicta sunt explicabo.',\n",
                "    666.99,\n",
                "    '9781234567666'\n",
                ")\r\n",
                "\r\n",
                "-- View the table\r\n",
                "SELECT TOP(10) [ID], [Title], [Summary], [Sales_price], [ISBN13]\r\n",
                "FROM [dbo].[bog]\r\n",
                " "
            ],
            "metadata": {
                "azdata_cell_guid": "024f1440-18b7-4b68-9af3-042fb7d064db"
            },
            "outputs": [
{
    "output_type": "display_data",
    "data": {
        "text/html": "Commands completed successfully."
    },
    "metadata": {}
}, {
    "output_type": "display_data",
    "data": {
        "text/html": "Commands completed successfully."
    },
    "metadata": {}
}, {
    "output_type": "display_data",
    "data": {
        "text/html": "(5 rows affected)"
    },
    "metadata": {}
}, {
    "output_type": "display_data",
    "data": {
        "text/html": "(5 rows affected)"
    },
    "metadata": {}
}, {
    "output_type": "display_data",
    "data": {
        "text/html": "Total execution time: 00:00:00.007"
    },
    "metadata": {}
}, {
    "output_type": "execute_result",
    "metadata": {},
    "execution_count": 9,
    "data": {
        "application/vnd.dataresource+json": {
            "schema": {
                "fields": [
                    {
                        "name": "ID"
                    },
                    {
                        "name": "Title"
                    },
                    {
                        "name": "Summary"
                    },
                    {
                        "name": "Sales_price"
                    },
                    {
                        "name": "ISBN13"
                    }
                ]
            },
            "data": [
                {
                    "0": "1",
                    "1": "The anodic cathode",
                    "2": "At vero eos et accusamus et iusto odio dignissimos ducimus qui blanditiis praesentium voluptatum deleniti atque corrupti quos dolores et quas molestias excepturi sint occaecati cupiditate non provident, similique sunt in culpa qui officia deserunt mollitia animi, id est laborum et dolorum fuga.",
                    "3": "250,45",
                    "4": "9781234567897"
                },
                {
                    "0": "2",
                    "1": "The dry sea",
                    "2": "Et harum quidem rerum facilis est et expedita distinctio. Nam libero tempore, cum soluta nobis est eligendi optio cumque nihil impedit quo minus id quod maxime placeat facere possimus, omnis voluptas assumenda est, omnis dolor repellendus.",
                    "3": "300,99",
                    "4": "9781234567425"
                },
                {
                    "0": "3",
                    "1": "The anabatic katabasis",
                    "2": "Temporibus autem quibusdam et aut officiis debitis aut rerum necessitatibus saepe eveniet ut et voluptates repudiandae sint et molestiae non recusandae.",
                    "3": "99,15",
                    "4": "9781234567322"
                },
                {
                    "0": "4",
                    "1": "The magic trombone",
                    "2": "Itaque earum rerum hic tenetur a sapiente delectus, ut aut reiciendis voluptatibus maiores alias consequatur aut perferendis doloribus asperiores repellat.",
                    "3": "420,44",
                    "4": "9781234567758"
                },
                {
                    "0": "5",
                    "1": "Also sprach Herr Lustra",
                    "2": "Sed ut perspiciatis unde omnis iste natus error sit voluptatem accusantium doloremque laudantium, totam rem aperiam, eaque ipsa quae ab illo inventore veritatis et quasi architecto beatae vitae dicta sunt explicabo.",
                    "3": "666,99",
                    "4": "9781234567666"
                }
            ]
        },
        "text/html": [
            "<table>",
            "<tr><th>ID</th><th>Title</th><th>Summary</th><th>Sales_price</th><th>ISBN13</th></tr>",
            "<tr><td>1</td><td>The anodic cathode</td><td>At vero eos et accusamus et iusto odio dignissimos ducimus qui blanditiis praesentium voluptatum deleniti atque corrupti quos dolores et quas molestias excepturi sint occaecati cupiditate non provident, similique sunt in culpa qui officia deserunt mollitia animi, id est laborum et dolorum fuga.</td><td>250,45</td><td>9781234567897</td></tr>",
            "<tr><td>2</td><td>The dry sea</td><td>Et harum quidem rerum facilis est et expedita distinctio. Nam libero tempore, cum soluta nobis est eligendi optio cumque nihil impedit quo minus id quod maxime placeat facere possimus, omnis voluptas assumenda est, omnis dolor repellendus.</td><td>300,99</td><td>9781234567425</td></tr>",
            "<tr><td>3</td><td>The anabatic katabasis</td><td>Temporibus autem quibusdam et aut officiis debitis aut rerum necessitatibus saepe eveniet ut et voluptates repudiandae sint et molestiae non recusandae.</td><td>99,15</td><td>9781234567322</td></tr>",
            "<tr><td>4</td><td>The magic trombone</td><td>Itaque earum rerum hic tenetur a sapiente delectus, ut aut reiciendis voluptatibus maiores alias consequatur aut perferendis doloribus asperiores repellat.</td><td>420,44</td><td>9781234567758</td></tr>",
            "<tr><td>5</td><td>Also sprach Herr Lustra</td><td>Sed ut perspiciatis unde omnis iste natus error sit voluptatem accusantium doloremque laudantium, totam rem aperiam, eaque ipsa quae ab illo inventore veritatis et quasi architecto beatae vitae dicta sunt explicabo.</td><td>666,99</td><td>9781234567666</td></tr>",
            "</table>"
        ]
    }
}
],
            "execution_count": null
        },
        {
            "cell_type": "markdown",
            "source": [
                ""
            ],
            "metadata": {
                "azdata_cell_guid": "5d81e6c2-06d8-487f-8201-f2770879d6d9"
            }
        }
    ]
}