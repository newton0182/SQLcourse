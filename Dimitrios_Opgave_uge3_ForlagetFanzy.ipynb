{
    "metadata": {
        "kernelspec": {
            "name": "SQL",
            "display_name": "SQL",
            "language": "sql"
        },
        "language_info": {
            "name": "sql",
            "version": ""
        }
    },
    "nbformat_minor": 2,
    "nbformat": 4,
    "cells": [
        {
            "cell_type": "markdown",
            "source": [
                "### Ny Database"
            ],
            "metadata": {
                "azdata_cell_guid": "58d420d2-4a10-40d9-a937-d91cc442f6d5"
            }
        },
        {
            "cell_type": "code",
            "source": [
                "-- Delete en eksisting database\r\n",
                "-- Drop the database 'ForlagetFanzy_Opgave'\r\n",
                "-- Connect to the 'master' database to run this snippet\r\n",
                "USE master\r\n",
                "GO\r\n",
                "-- Uncomment the ALTER DATABASE statement below to set the database to SINGLE_USER mode if the drop database command fails because the database is in use.\r\n",
                "-- ALTER DATABASE ForlagetFanzy_Opgave SET SINGLE_USER WITH ROLLBACK IMMEDIATE;\r\n",
                "-- Drop the database if it exists\r\n",
                "IF EXISTS (\r\n",
                "    SELECT [name]\r\n",
                "        FROM sys.databases\r\n",
                "        WHERE [name] = N'ForlagetFanzy_Opgave'\r\n",
                ")\r\n",
                "DROP DATABASE ForlagetFanzy_Opgave\r\n",
                "GO\r\n",
                ""
            ],
            "metadata": {
                "azdata_cell_guid": "ecde0584-c394-499d-b3c8-3ba24d1381b5"
            },
            "outputs": [
                {
                    "output_type": "display_data",
                    "data": {
                        "text/html": "Commands completed successfully."
                    },
                    "metadata": {}
                },
                {
                    "output_type": "display_data",
                    "data": {
                        "text/html": "Commands completed successfully."
                    },
                    "metadata": {}
                },
                {
                    "output_type": "display_data",
                    "data": {
                        "text/html": "Total execution time: 00:00:00.034"
                    },
                    "metadata": {}
                }
            ],
            "execution_count": 10
        },
        {
            "cell_type": "code",
            "source": [
                "-- Create a new database called 'ForlagetFanzy_Opgave'\r\n",
                "-- Connect to the 'master' database to run this snippet\r\n",
                "USE master\r\n",
                "GO\r\n",
                "-- Create the new database if it does not exist already\r\n",
                "IF NOT EXISTS (\r\n",
                "    SELECT [name]\r\n",
                "        FROM sys.databases\r\n",
                "        WHERE [name] = N'ForlagetFanzy_Opgave'\r\n",
                ")\r\n",
                "CREATE DATABASE ForlagetFanzy_Opgave\r\n",
                "GO"
            ],
            "metadata": {
                "azdata_cell_guid": "fb58c04e-cafa-4b01-9f6b-12358755fd93"
            },
            "outputs": [
                {
                    "output_type": "display_data",
                    "data": {
                        "text/html": "Commands completed successfully."
                    },
                    "metadata": {}
                },
                {
                    "output_type": "display_data",
                    "data": {
                        "text/html": "Commands completed successfully."
                    },
                    "metadata": {}
                },
                {
                    "output_type": "display_data",
                    "data": {
                        "text/html": "Total execution time: 00:00:00.083"
                    },
                    "metadata": {}
                }
            ],
            "execution_count": 11
        },
        {
            "cell_type": "markdown",
            "source": [
                "### Forfattertabellen"
            ],
            "metadata": {
                "azdata_cell_guid": "72021a4f-d635-4826-bed8-6e8dbc7545ce"
            }
        },
        {
            "cell_type": "code",
            "source": [
                "-- Create a new table called '[Forfatter]' in schema '[dbo]'\r\n",
                "\r\n",
                "USE [ForlagetFanzy_Opgave]\r\n",
                "\r\n",
                "-- Drop the table if it already exists\r\n",
                "IF OBJECT_ID('[dbo].[Forfatter]', 'U') IS NOT NULL\r\n",
                "DROP TABLE [dbo].[Forfatter]\r\n",
                "GO\r\n",
                "\r\n",
                "CREATE TABLE [dbo].[Forfatter]\r\n",
                "(\r\n",
                "    [ID] INT IDENTITY(1,1) NOT NULL PRIMARY KEY, \r\n",
                "    [First_name] NVARCHAR(50) NOT NULL,\r\n",
                "    [Surname] NVARCHAR(50) NOT NULL,\r\n",
                "    [email] NVARCHAR(50) UNIQUE NOT NULL\r\n",
                ");\r\n",
                "GO\r\n",
                "\r\n",
                "-- Insert rows into table 'Forfatter' in schema '[dbo]'\r\n",
                "INSERT INTO [dbo].[Forfatter]\r\n",
                "(\r\n",
                " [First_name], [Surname], [email]\r\n",
                ")\r\n",
                "VALUES\r\n",
                "( \r\n",
                "    'John', 'Smith', 'johnsmith1982@hotmail.com'\r\n",
                "),\r\n",
                "( \r\n",
                "    'Erik', 'Torssøn', 'eriktorssoen1956@hotmail.com'\r\n",
                "),\r\n",
                "( \r\n",
                "    N'Δημήτριος', N'Χαντζιάρας', 'dimitrios.ch@greeksouvlaki.gr'\r\n",
                "),\r\n",
                "( \r\n",
                "    N'Влади́мир', N'Медве́дев', 'vladimir.medvedev@cccp.ru'\r\n",
                "),\r\n",
                "( \r\n",
                "    'Guðrún', 'Þórðardóttir', 'thegudrunsaga@gmail.com'\r\n",
                "),\r\n",
                "(\r\n",
                "    'Arturito', 'Skånehauer', 'LifeIsaConstantProcessOfDying@aol.com'\r\n",
                ")\r\n",
                "\r\n",
                "-- View the table\r\n",
                "SELECT TOP(10) [ID], [First_name], [Surname], [email]\r\n",
                "FROM [dbo].[Forfatter]\r\n",
                " "
            ],
            "metadata": {
                "azdata_cell_guid": "00e928bc-a5af-48fb-ba85-9ecc297ed4c9"
            },
            "outputs": [
                {
                    "output_type": "display_data",
                    "data": {
                        "text/html": "Commands completed successfully."
                    },
                    "metadata": {}
                },
                {
                    "output_type": "display_data",
                    "data": {
                        "text/html": "Commands completed successfully."
                    },
                    "metadata": {}
                },
                {
                    "output_type": "display_data",
                    "data": {
                        "text/html": "(6 rows affected)"
                    },
                    "metadata": {}
                },
                {
                    "output_type": "display_data",
                    "data": {
                        "text/html": "(6 rows affected)"
                    },
                    "metadata": {}
                },
                {
                    "output_type": "display_data",
                    "data": {
                        "text/html": "Total execution time: 00:00:00.004"
                    },
                    "metadata": {}
                },
                {
                    "output_type": "execute_result",
                    "metadata": {},
                    "execution_count": 12,
                    "data": {
                        "application/vnd.dataresource+json": {
                            "schema": {
                                "fields": [
                                    {
                                        "name": "ID"
                                    },
                                    {
                                        "name": "First_name"
                                    },
                                    {
                                        "name": "Surname"
                                    },
                                    {
                                        "name": "email"
                                    }
                                ]
                            },
                            "data": [
                                {
                                    "0": "1",
                                    "1": "John",
                                    "2": "Smith",
                                    "3": "johnsmith1982@hotmail.com"
                                },
                                {
                                    "0": "2",
                                    "1": "Erik",
                                    "2": "Torssøn",
                                    "3": "eriktorssoen1956@hotmail.com"
                                },
                                {
                                    "0": "3",
                                    "1": "Δημήτριος",
                                    "2": "Χαντζιάρας",
                                    "3": "dimitrios.ch@greeksouvlaki.gr"
                                },
                                {
                                    "0": "4",
                                    "1": "Влади́мир",
                                    "2": "Медве́дев",
                                    "3": "vladimir.medvedev@cccp.ru"
                                },
                                {
                                    "0": "5",
                                    "1": "Guðrún",
                                    "2": "Þórðardóttir",
                                    "3": "thegudrunsaga@gmail.com"
                                },
                                {
                                    "0": "6",
                                    "1": "Arturito",
                                    "2": "Skånehauer",
                                    "3": "LifeIsaConstantProcessOfDying@aol.com"
                                }
                            ]
                        },
                        "text/html": [
                            "<table>",
                            "<tr><th>ID</th><th>First_name</th><th>Surname</th><th>email</th></tr>",
                            "<tr><td>1</td><td>John</td><td>Smith</td><td>johnsmith1982@hotmail.com</td></tr>",
                            "<tr><td>2</td><td>Erik</td><td>Torssøn</td><td>eriktorssoen1956@hotmail.com</td></tr>",
                            "<tr><td>3</td><td>Δημήτριος</td><td>Χαντζιάρας</td><td>dimitrios.ch@greeksouvlaki.gr</td></tr>",
                            "<tr><td>4</td><td>Влади́мир</td><td>Медве́дев</td><td>vladimir.medvedev@cccp.ru</td></tr>",
                            "<tr><td>5</td><td>Guðrún</td><td>Þórðardóttir</td><td>thegudrunsaga@gmail.com</td></tr>",
                            "<tr><td>6</td><td>Arturito</td><td>Skånehauer</td><td>LifeIsaConstantProcessOfDying@aol.com</td></tr>",
                            "</table>"
                        ]
                    }
                }
            ],
            "execution_count": 12
        },
        {
            "cell_type": "markdown",
            "source": [
                "### Kategoritabellen"
            ],
            "metadata": {
                "azdata_cell_guid": "f78dd3b0-4519-4f76-ba9b-721c4c86fe20"
            }
        },
        {
            "cell_type": "code",
            "source": [
                "-- Create a new table called '[Kategori]' in schema '[dbo]'\r\n",
                "\r\n",
                "USE [ForlagetFanzy_Opgave]\r\n",
                "\r\n",
                "-- Drop the table if it already exists\r\n",
                "IF OBJECT_ID('[dbo].[Kategori]', 'U') IS NOT NULL\r\n",
                "DROP TABLE [dbo].[Kategori]\r\n",
                "GO\r\n",
                "\r\n",
                "CREATE TABLE [dbo].[Kategori]\r\n",
                "(\r\n",
                "    [ID] INT IDENTITY(1,1) NOT NULL PRIMARY KEY, \r\n",
                "    [Category] NVARCHAR(50) NOT NULL\r\n",
                ");\r\n",
                "GO\r\n",
                "\r\n",
                "-- Insert rows into table 'Kategori' in schema '[dbo]'\r\n",
                "INSERT INTO [dbo].[Kategori]\r\n",
                "(\r\n",
                " [Category]\r\n",
                ")\r\n",
                "VALUES\r\n",
                "( \r\n",
                "    'Philosophy'\r\n",
                "),\r\n",
                "( \r\n",
                "    'Science'\r\n",
                "),\r\n",
                "( \r\n",
                "    'Mystery'\r\n",
                "),\r\n",
                "( \r\n",
                "    'History'\r\n",
                "),\r\n",
                "( \r\n",
                "    'Technology'\r\n",
                "),\r\n",
                "( \r\n",
                "    'Romanzo'\r\n",
                ")\r\n",
                "\r\n",
                "-- View the table\r\n",
                "SELECT TOP(10) [ID], [Category]\r\n",
                "FROM [dbo].[Kategori]\r\n",
                " "
            ],
            "metadata": {
                "azdata_cell_guid": "bb46893d-c9d4-4e9a-af14-3829bad3a92c"
            },
            "outputs": [
                {
                    "output_type": "display_data",
                    "data": {
                        "text/html": "Commands completed successfully."
                    },
                    "metadata": {}
                },
                {
                    "output_type": "display_data",
                    "data": {
                        "text/html": "Commands completed successfully."
                    },
                    "metadata": {}
                },
                {
                    "output_type": "display_data",
                    "data": {
                        "text/html": "(6 rows affected)"
                    },
                    "metadata": {}
                },
                {
                    "output_type": "display_data",
                    "data": {
                        "text/html": "(6 rows affected)"
                    },
                    "metadata": {}
                },
                {
                    "output_type": "display_data",
                    "data": {
                        "text/html": "Total execution time: 00:00:00.003"
                    },
                    "metadata": {}
                },
                {
                    "output_type": "execute_result",
                    "metadata": {},
                    "execution_count": 17,
                    "data": {
                        "application/vnd.dataresource+json": {
                            "schema": {
                                "fields": [
                                    {
                                        "name": "ID"
                                    },
                                    {
                                        "name": "Category"
                                    }
                                ]
                            },
                            "data": [
                                {
                                    "0": "1",
                                    "1": "Philosophy"
                                },
                                {
                                    "0": "2",
                                    "1": "Science"
                                },
                                {
                                    "0": "3",
                                    "1": "Mystery"
                                },
                                {
                                    "0": "4",
                                    "1": "History"
                                },
                                {
                                    "0": "5",
                                    "1": "Technology"
                                },
                                {
                                    "0": "6",
                                    "1": "Romanzo"
                                }
                            ]
                        },
                        "text/html": [
                            "<table>",
                            "<tr><th>ID</th><th>Category</th></tr>",
                            "<tr><td>1</td><td>Philosophy</td></tr>",
                            "<tr><td>2</td><td>Science</td></tr>",
                            "<tr><td>3</td><td>Mystery</td></tr>",
                            "<tr><td>4</td><td>History</td></tr>",
                            "<tr><td>5</td><td>Technology</td></tr>",
                            "<tr><td>6</td><td>Romanzo</td></tr>",
                            "</table>"
                        ]
                    }
                }
            ],
            "execution_count": 17
        },
        {
            "cell_type": "markdown",
            "source": [
                "### Bogtabellen"
            ],
            "metadata": {
                "azdata_cell_guid": "55d308f8-e2b5-43eb-945c-b5433d649a47"
            }
        },
        {
            "cell_type": "code",
            "source": [
                "-- Create a new table called '[bog]' in schema '[dbo]'\r\n",
                "\r\n",
                "USE [ForlagetFanzy_Opgave]\r\n",
                "\r\n",
                "-- Drop the table if it already exists\r\n",
                "IF OBJECT_ID('[dbo].[bog]', 'U') IS NOT NULL\r\n",
                "DROP TABLE [dbo].[bog]\r\n",
                "GO\r\n",
                "\r\n",
                "CREATE TABLE [dbo].[bog]\r\n",
                "(\r\n",
                "    [ID] INT IDENTITY(1,1) NOT NULL PRIMARY KEY, \r\n",
                "    [Title] NVARCHAR(50) NOT NULL,\r\n",
                "    [Summary] NVARCHAR(1000) NOT NULL,\r\n",
                "    [ISBN13] CHAR(13) UNIQUE NOT NULL,\r\n",
                "    [Sales_price] DECIMAL(7,2) NOT NULL,\r\n",
                "    [CategoryID] INT FOREIGN KEY REFERENCES Kategori(ID)\r\n",
                ");\r\n",
                "GO\r\n",
                "\r\n",
                "-- Insert rows into table 'bog' in schema '[dbo]'\r\n",
                "INSERT INTO [dbo].[bog]\r\n",
                "(\r\n",
                " [Title], \r\n",
                " [Summary], \r\n",
                " [Sales_price], \r\n",
                " [ISBN13],\r\n",
                " [CategoryID]\r\n",
                ")\r\n",
                "VALUES\r\n",
                "( \r\n",
                "    'The anodic cathode', \r\n",
                "    'At vero eos et accusamus et iusto odio dignissimos ducimus qui blanditiis praesentium voluptatum deleniti atque corrupti quos dolores et quas molestias excepturi sint occaecati cupiditate non provident, similique sunt in culpa qui officia deserunt mollitia animi, id est laborum et dolorum fuga.',\r\n",
                "    250.45,\r\n",
                "    '9781234567897',\r\n",
                "    2\r\n",
                "),\r\n",
                "( \r\n",
                "    'The dry sea', \r\n",
                "    'Et harum quidem rerum facilis est et expedita distinctio. Nam libero tempore, cum soluta nobis est eligendi optio cumque nihil impedit quo minus id quod maxime placeat facere possimus, omnis voluptas assumenda est, omnis dolor repellendus.',\r\n",
                "    300.99,\r\n",
                "    '9781234567425',\r\n",
                "    1\r\n",
                "),\r\n",
                "( \r\n",
                "    'The anabatic katabasis', \r\n",
                "    'Temporibus autem quibusdam et aut officiis debitis aut rerum necessitatibus saepe eveniet ut et voluptates repudiandae sint et molestiae non recusandae.',\r\n",
                "    99.15,\r\n",
                "    '9781234567322',\r\n",
                "    4\r\n",
                "),\r\n",
                "( \r\n",
                "    'The magic trombone', \r\n",
                "    'Itaque earum rerum hic tenetur a sapiente delectus, ut aut reiciendis voluptatibus maiores alias consequatur aut perferendis doloribus asperiores repellat.',\r\n",
                "    420.44,\r\n",
                "    '9781234567758',\r\n",
                "    3\r\n",
                "),\r\n",
                "( \r\n",
                "    'Also sprach Herr Lustra', \r\n",
                "    'Sed ut perspiciatis unde omnis iste natus error sit voluptatem accusantium doloremque laudantium, totam rem aperiam, eaque ipsa quae ab illo inventore veritatis et quasi architecto beatae vitae dicta sunt explicabo.',\r\n",
                "    666.99,\r\n",
                "    '9781234567666',\r\n",
                "    6\r\n",
                ")\r\n",
                "\r\n",
                "\r\n",
                "\r\n",
                "-- View the table\r\n",
                "SELECT TOP(10) [ID], [Title], [Summary], [Sales_price], [ISBN13], [CategoryID]\r\n",
                "FROM [dbo].[bog]\r\n",
                " "
            ],
            "metadata": {
                "azdata_cell_guid": "024f1440-18b7-4b68-9af3-042fb7d064db"
            },
            "outputs": [
                {
                    "output_type": "display_data",
                    "data": {
                        "text/html": "Commands completed successfully."
                    },
                    "metadata": {}
                },
                {
                    "output_type": "display_data",
                    "data": {
                        "text/html": "Commands completed successfully."
                    },
                    "metadata": {}
                },
                {
                    "output_type": "display_data",
                    "data": {
                        "text/html": "(5 rows affected)"
                    },
                    "metadata": {}
                },
                {
                    "output_type": "display_data",
                    "data": {
                        "text/html": "(5 rows affected)"
                    },
                    "metadata": {}
                },
                {
                    "output_type": "display_data",
                    "data": {
                        "text/html": "Total execution time: 00:00:00.005"
                    },
                    "metadata": {}
                },
                {
                    "output_type": "execute_result",
                    "metadata": {},
                    "execution_count": 18,
                    "data": {
                        "application/vnd.dataresource+json": {
                            "schema": {
                                "fields": [
                                    {
                                        "name": "ID"
                                    },
                                    {
                                        "name": "Title"
                                    },
                                    {
                                        "name": "Summary"
                                    },
                                    {
                                        "name": "Sales_price"
                                    },
                                    {
                                        "name": "ISBN13"
                                    },
                                    {
                                        "name": "CategoryID"
                                    }
                                ]
                            },
                            "data": [
                                {
                                    "0": "1",
                                    "1": "The anodic cathode",
                                    "2": "At vero eos et accusamus et iusto odio dignissimos ducimus qui blanditiis praesentium voluptatum deleniti atque corrupti quos dolores et quas molestias excepturi sint occaecati cupiditate non provident, similique sunt in culpa qui officia deserunt mollitia animi, id est laborum et dolorum fuga.",
                                    "3": "250,45",
                                    "4": "9781234567897",
                                    "5": "2"
                                },
                                {
                                    "0": "2",
                                    "1": "The dry sea",
                                    "2": "Et harum quidem rerum facilis est et expedita distinctio. Nam libero tempore, cum soluta nobis est eligendi optio cumque nihil impedit quo minus id quod maxime placeat facere possimus, omnis voluptas assumenda est, omnis dolor repellendus.",
                                    "3": "300,99",
                                    "4": "9781234567425",
                                    "5": "1"
                                },
                                {
                                    "0": "3",
                                    "1": "The anabatic katabasis",
                                    "2": "Temporibus autem quibusdam et aut officiis debitis aut rerum necessitatibus saepe eveniet ut et voluptates repudiandae sint et molestiae non recusandae.",
                                    "3": "99,15",
                                    "4": "9781234567322",
                                    "5": "4"
                                },
                                {
                                    "0": "4",
                                    "1": "The magic trombone",
                                    "2": "Itaque earum rerum hic tenetur a sapiente delectus, ut aut reiciendis voluptatibus maiores alias consequatur aut perferendis doloribus asperiores repellat.",
                                    "3": "420,44",
                                    "4": "9781234567758",
                                    "5": "3"
                                },
                                {
                                    "0": "5",
                                    "1": "Also sprach Herr Lustra",
                                    "2": "Sed ut perspiciatis unde omnis iste natus error sit voluptatem accusantium doloremque laudantium, totam rem aperiam, eaque ipsa quae ab illo inventore veritatis et quasi architecto beatae vitae dicta sunt explicabo.",
                                    "3": "666,99",
                                    "4": "9781234567666",
                                    "5": "6"
                                }
                            ]
                        },
                        "text/html": [
                            "<table>",
                            "<tr><th>ID</th><th>Title</th><th>Summary</th><th>Sales_price</th><th>ISBN13</th><th>CategoryID</th></tr>",
                            "<tr><td>1</td><td>The anodic cathode</td><td>At vero eos et accusamus et iusto odio dignissimos ducimus qui blanditiis praesentium voluptatum deleniti atque corrupti quos dolores et quas molestias excepturi sint occaecati cupiditate non provident, similique sunt in culpa qui officia deserunt mollitia animi, id est laborum et dolorum fuga.</td><td>250,45</td><td>9781234567897</td><td>2</td></tr>",
                            "<tr><td>2</td><td>The dry sea</td><td>Et harum quidem rerum facilis est et expedita distinctio. Nam libero tempore, cum soluta nobis est eligendi optio cumque nihil impedit quo minus id quod maxime placeat facere possimus, omnis voluptas assumenda est, omnis dolor repellendus.</td><td>300,99</td><td>9781234567425</td><td>1</td></tr>",
                            "<tr><td>3</td><td>The anabatic katabasis</td><td>Temporibus autem quibusdam et aut officiis debitis aut rerum necessitatibus saepe eveniet ut et voluptates repudiandae sint et molestiae non recusandae.</td><td>99,15</td><td>9781234567322</td><td>4</td></tr>",
                            "<tr><td>4</td><td>The magic trombone</td><td>Itaque earum rerum hic tenetur a sapiente delectus, ut aut reiciendis voluptatibus maiores alias consequatur aut perferendis doloribus asperiores repellat.</td><td>420,44</td><td>9781234567758</td><td>3</td></tr>",
                            "<tr><td>5</td><td>Also sprach Herr Lustra</td><td>Sed ut perspiciatis unde omnis iste natus error sit voluptatem accusantium doloremque laudantium, totam rem aperiam, eaque ipsa quae ab illo inventore veritatis et quasi architecto beatae vitae dicta sunt explicabo.</td><td>666,99</td><td>9781234567666</td><td>6</td></tr>",
                            "</table>"
                        ]
                    }
                }
            ],
            "execution_count": 18
        },
        {
            "cell_type": "markdown",
            "source": [
                "### Forfatterens bøger tabel"
            ],
            "metadata": {
                "azdata_cell_guid": "5d81e6c2-06d8-487f-8201-f2770879d6d9"
            }
        },
        {
            "cell_type": "code",
            "source": [
                "-- Create a junction table called '[bogogforfatter]' in schema '[dbo]'\r\n",
                "\r\n",
                "USE [ForlagetFanzy_Opgave]\r\n",
                "\r\n",
                "-- Drop the table if it already exists\r\n",
                "IF OBJECT_ID('[dbo].[bogogforfatter]', 'U') IS NOT NULL\r\n",
                "DROP TABLE [dbo].[bogogforfatter]\r\n",
                "GO\r\n",
                "\r\n",
                "\r\n",
                "CREATE TABLE [dbo].[bogogforfatter]\r\n",
                "(\r\n",
                "    [BogID] INT NOT NULL, \r\n",
                "    [ForfatterID] INT NOT NULL, \r\n",
                "    PRIMARY KEY (BogID, ForfatterID),\r\n",
                "    FOREIGN KEY (BogID) REFERENCES bog (ID),\r\n",
                "    FOREIGN KEY (ForfatterID) REFERENCES Forfatter (ID)\r\n",
                ");\r\n",
                "GO\r\n",
                "\r\n",
                "-- Insert rows into table 'bogogforfatter' in schema '[dbo]'\r\n",
                "INSERT INTO [dbo].[bogogforfatter]\r\n",
                "(\r\n",
                " [BogID], [ForfatterID]\r\n",
                ")\r\n",
                "VALUES\r\n",
                "( \r\n",
                "    1, 3\r\n",
                "),\r\n",
                "( \r\n",
                "    1, 4\r\n",
                "),\r\n",
                "( \r\n",
                "    2, 1\r\n",
                "),\r\n",
                "( \r\n",
                "    3, 1\r\n",
                "),\r\n",
                "( \r\n",
                "    4, 5\r\n",
                "), \r\n",
                "( \r\n",
                "    5, 2\r\n",
                ")\r\n",
                "\r\n",
                "-- View the table\r\n",
                "SELECT TOP(10) [BogID], [ForfatterID]\r\n",
                "FROM [dbo].[bogogforfatter]\r\n",
                "GO\r\n",
                "\r\n",
                ""
            ],
            "metadata": {
                "azdata_cell_guid": "12b86640-0e5d-4db2-ba80-f0e2f2f4f8d2"
            },
            "outputs": [
                {
                    "output_type": "display_data",
                    "data": {
                        "text/html": "Commands completed successfully."
                    },
                    "metadata": {}
                },
                {
                    "output_type": "display_data",
                    "data": {
                        "text/html": "Commands completed successfully."
                    },
                    "metadata": {}
                },
                {
                    "output_type": "display_data",
                    "data": {
                        "text/html": "(6 rows affected)"
                    },
                    "metadata": {}
                },
                {
                    "output_type": "display_data",
                    "data": {
                        "text/html": "(6 rows affected)"
                    },
                    "metadata": {}
                },
                {
                    "output_type": "display_data",
                    "data": {
                        "text/html": "Total execution time: 00:00:00.005"
                    },
                    "metadata": {}
                },
                {
                    "output_type": "execute_result",
                    "metadata": {},
                    "execution_count": 19,
                    "data": {
                        "application/vnd.dataresource+json": {
                            "schema": {
                                "fields": [
                                    {
                                        "name": "BogID"
                                    },
                                    {
                                        "name": "ForfatterID"
                                    }
                                ]
                            },
                            "data": [
                                {
                                    "0": "1",
                                    "1": "3"
                                },
                                {
                                    "0": "1",
                                    "1": "4"
                                },
                                {
                                    "0": "2",
                                    "1": "1"
                                },
                                {
                                    "0": "3",
                                    "1": "1"
                                },
                                {
                                    "0": "4",
                                    "1": "5"
                                },
                                {
                                    "0": "5",
                                    "1": "2"
                                }
                            ]
                        },
                        "text/html": [
                            "<table>",
                            "<tr><th>BogID</th><th>ForfatterID</th></tr>",
                            "<tr><td>1</td><td>3</td></tr>",
                            "<tr><td>1</td><td>4</td></tr>",
                            "<tr><td>2</td><td>1</td></tr>",
                            "<tr><td>3</td><td>1</td></tr>",
                            "<tr><td>4</td><td>5</td></tr>",
                            "<tr><td>5</td><td>2</td></tr>",
                            "</table>"
                        ]
                    }
                }
            ],
            "execution_count": 19
        },
        {
            "cell_type": "markdown",
            "source": [
                "### En liste med alle bøger per kategori (Kategorier uden bøger vises alligevel)"
            ],
            "metadata": {
                "azdata_cell_guid": "232b6aa3-aa94-4e7f-8e59-1fabd5261ced"
            }
        },
        {
            "cell_type": "code",
            "source": [
                "SELECT Category, Title, Sales_price, ISBN13, First_name, Surname\r\n",
                "FROM bogogforfatter\r\n",
                "JOIN bog ON bog.ID = bogogforfatter.BogID\r\n",
                "JOIN Forfatter ON Forfatter.ID = bogogforfatter.ForfatterID\r\n",
                "RIGHT JOIN Kategori ON Kategori.ID = bog.CategoryID\r\n",
                ""
            ],
            "metadata": {
                "azdata_cell_guid": "a2ccb4d8-7de0-4e5c-a497-5bd4ea3fff5f"
            },
            "outputs": [
                {
                    "output_type": "display_data",
                    "data": {
                        "text/html": "(7 rows affected)"
                    },
                    "metadata": {}
                },
                {
                    "output_type": "display_data",
                    "data": {
                        "text/html": "Total execution time: 00:00:00.007"
                    },
                    "metadata": {}
                },
                {
                    "output_type": "execute_result",
                    "metadata": {},
                    "execution_count": 21,
                    "data": {
                        "application/vnd.dataresource+json": {
                            "schema": {
                                "fields": [
                                    {
                                        "name": "Category"
                                    },
                                    {
                                        "name": "Title"
                                    },
                                    {
                                        "name": "Sales_price"
                                    },
                                    {
                                        "name": "ISBN13"
                                    },
                                    {
                                        "name": "First_name"
                                    },
                                    {
                                        "name": "Surname"
                                    }
                                ]
                            },
                            "data": [
                                {
                                    "0": "Philosophy",
                                    "1": "The dry sea",
                                    "2": "300,99",
                                    "3": "9781234567425",
                                    "4": "John",
                                    "5": "Smith"
                                },
                                {
                                    "0": "Science",
                                    "1": "The anodic cathode",
                                    "2": "250,45",
                                    "3": "9781234567897",
                                    "4": "Δημήτριος",
                                    "5": "Χαντζιάρας"
                                },
                                {
                                    "0": "Science",
                                    "1": "The anodic cathode",
                                    "2": "250,45",
                                    "3": "9781234567897",
                                    "4": "Влади́мир",
                                    "5": "Медве́дев"
                                },
                                {
                                    "0": "Mystery",
                                    "1": "The magic trombone",
                                    "2": "420,44",
                                    "3": "9781234567758",
                                    "4": "Guðrún",
                                    "5": "Þórðardóttir"
                                },
                                {
                                    "0": "History",
                                    "1": "The anabatic katabasis",
                                    "2": "99,15",
                                    "3": "9781234567322",
                                    "4": "John",
                                    "5": "Smith"
                                },
                                {
                                    "0": "Technology",
                                    "1": "NULL",
                                    "2": "NULL",
                                    "3": "NULL",
                                    "4": "NULL",
                                    "5": "NULL"
                                },
                                {
                                    "0": "Romanzo",
                                    "1": "Also sprach Herr Lustra",
                                    "2": "666,99",
                                    "3": "9781234567666",
                                    "4": "Erik",
                                    "5": "Torssøn"
                                }
                            ]
                        },
                        "text/html": [
                            "<table>",
                            "<tr><th>Category</th><th>Title</th><th>Sales_price</th><th>ISBN13</th><th>First_name</th><th>Surname</th></tr>",
                            "<tr><td>Philosophy</td><td>The dry sea</td><td>300,99</td><td>9781234567425</td><td>John</td><td>Smith</td></tr>",
                            "<tr><td>Science</td><td>The anodic cathode</td><td>250,45</td><td>9781234567897</td><td>Δημήτριος</td><td>Χαντζιάρας</td></tr>",
                            "<tr><td>Science</td><td>The anodic cathode</td><td>250,45</td><td>9781234567897</td><td>Влади́мир</td><td>Медве́дев</td></tr>",
                            "<tr><td>Mystery</td><td>The magic trombone</td><td>420,44</td><td>9781234567758</td><td>Guðrún</td><td>Þórðardóttir</td></tr>",
                            "<tr><td>History</td><td>The anabatic katabasis</td><td>99,15</td><td>9781234567322</td><td>John</td><td>Smith</td></tr>",
                            "<tr><td>Technology</td><td>NULL</td><td>NULL</td><td>NULL</td><td>NULL</td><td>NULL</td></tr>",
                            "<tr><td>Romanzo</td><td>Also sprach Herr Lustra</td><td>666,99</td><td>9781234567666</td><td>Erik</td><td>Torssøn</td></tr>",
                            "</table>"
                        ]
                    }
                }
            ],
            "execution_count": 21
        },
        {
            "cell_type": "markdown",
            "source": [
                "### En liste med alle forfattere og deres bøger (Stored procedures)"
            ],
            "metadata": {
                "azdata_cell_guid": "37a95acb-6b30-4657-b9d4-13a62ca54a91"
            }
        },
        {
            "cell_type": "code",
            "source": [
                "-- Drop the stored procedure called 'stp_getallforfattere' in schema 'dbo'\r\n",
                "IF EXISTS (\r\n",
                "SELECT *\r\n",
                "    FROM INFORMATION_SCHEMA.ROUTINES\r\n",
                "WHERE SPECIFIC_SCHEMA = N'dbo'\r\n",
                "    AND SPECIFIC_NAME = N'stp_getallforfattere'\r\n",
                ")\r\n",
                "DROP PROCEDURE dbo.stp_getallforfattere\r\n",
                "GO\r\n",
                "\r\n",
                "CREATE PROCEDURE stp_getallforfattere\r\n",
                "AS\r\n",
                "    SELECT First_name, Surname, Title, Sales_price, ISBN13, Category\r\n",
                "    FROM bogogforfatter\r\n",
                "    JOIN bog ON bog.ID = bogogforfatter.BogID\r\n",
                "    JOIN Kategori ON Kategori.ID = bog.CategoryID\r\n",
                "    RIGHT JOIN Forfatter ON Forfatter.ID = bogogforfatter.ForfatterID\r\n",
                "GO\r\n",
                "\r\n",
                "EXEC stp_getallforfattere;\r\n",
                ""
            ],
            "metadata": {
                "azdata_cell_guid": "51278e36-1061-4598-9e13-83aa4dea99d5"
            },
            "outputs": [
                {
                    "output_type": "display_data",
                    "data": {
                        "text/html": "Commands completed successfully."
                    },
                    "metadata": {}
                },
                {
                    "output_type": "display_data",
                    "data": {
                        "text/html": "Commands completed successfully."
                    },
                    "metadata": {}
                },
                {
                    "output_type": "display_data",
                    "data": {
                        "text/html": "(7 rows affected)"
                    },
                    "metadata": {}
                },
                {
                    "output_type": "display_data",
                    "data": {
                        "text/html": "Total execution time: 00:00:00.004"
                    },
                    "metadata": {}
                },
                {
                    "output_type": "execute_result",
                    "metadata": {},
                    "execution_count": 37,
                    "data": {
                        "application/vnd.dataresource+json": {
                            "schema": {
                                "fields": [
                                    {
                                        "name": "First_name"
                                    },
                                    {
                                        "name": "Surname"
                                    },
                                    {
                                        "name": "Title"
                                    },
                                    {
                                        "name": "Sales_price"
                                    },
                                    {
                                        "name": "ISBN13"
                                    },
                                    {
                                        "name": "Category"
                                    }
                                ]
                            },
                            "data": [
                                {
                                    "0": "John",
                                    "1": "Smith",
                                    "2": "The dry sea",
                                    "3": "300,99",
                                    "4": "9781234567425",
                                    "5": "Philosophy"
                                },
                                {
                                    "0": "John",
                                    "1": "Smith",
                                    "2": "The anabatic katabasis",
                                    "3": "99,15",
                                    "4": "9781234567322",
                                    "5": "History"
                                },
                                {
                                    "0": "Erik",
                                    "1": "Torssøn",
                                    "2": "Also sprach Herr Lustra",
                                    "3": "666,99",
                                    "4": "9781234567666",
                                    "5": "Romanzo"
                                },
                                {
                                    "0": "Δημήτριος",
                                    "1": "Χαντζιάρας",
                                    "2": "The anodic cathode",
                                    "3": "250,45",
                                    "4": "9781234567897",
                                    "5": "Science"
                                },
                                {
                                    "0": "Влади́мир",
                                    "1": "Медве́дев",
                                    "2": "The anodic cathode",
                                    "3": "250,45",
                                    "4": "9781234567897",
                                    "5": "Science"
                                },
                                {
                                    "0": "Guðrún",
                                    "1": "Þórðardóttir",
                                    "2": "The magic trombone",
                                    "3": "420,44",
                                    "4": "9781234567758",
                                    "5": "Mystery"
                                },
                                {
                                    "0": "Arturito",
                                    "1": "Skånehauer",
                                    "2": "NULL",
                                    "3": "NULL",
                                    "4": "NULL",
                                    "5": "NULL"
                                }
                            ]
                        },
                        "text/html": [
                            "<table>",
                            "<tr><th>First_name</th><th>Surname</th><th>Title</th><th>Sales_price</th><th>ISBN13</th><th>Category</th></tr>",
                            "<tr><td>John</td><td>Smith</td><td>The dry sea</td><td>300,99</td><td>9781234567425</td><td>Philosophy</td></tr>",
                            "<tr><td>John</td><td>Smith</td><td>The anabatic katabasis</td><td>99,15</td><td>9781234567322</td><td>History</td></tr>",
                            "<tr><td>Erik</td><td>Torssøn</td><td>Also sprach Herr Lustra</td><td>666,99</td><td>9781234567666</td><td>Romanzo</td></tr>",
                            "<tr><td>Δημήτριος</td><td>Χαντζιάρας</td><td>The anodic cathode</td><td>250,45</td><td>9781234567897</td><td>Science</td></tr>",
                            "<tr><td>Влади́мир</td><td>Медве́дев</td><td>The anodic cathode</td><td>250,45</td><td>9781234567897</td><td>Science</td></tr>",
                            "<tr><td>Guðrún</td><td>Þórðardóttir</td><td>The magic trombone</td><td>420,44</td><td>9781234567758</td><td>Mystery</td></tr>",
                            "<tr><td>Arturito</td><td>Skånehauer</td><td>NULL</td><td>NULL</td><td>NULL</td><td>NULL</td></tr>",
                            "</table>"
                        ]
                    }
                }
            ],
            "execution_count": 37
        },
        {
            "cell_type": "markdown",
            "source": [
                "### Få at vide alt om en bestemt bog"
            ],
            "metadata": {
                "azdata_cell_guid": "f5996ead-ffd3-45fb-9c46-b84fa109bb47"
            }
        },
        {
            "cell_type": "code",
            "source": [
                "-- Drop the stored procedure called 'stp_soegenbog' in schema 'dbo'\r\n",
                "IF EXISTS (\r\n",
                "SELECT *\r\n",
                "    FROM INFORMATION_SCHEMA.ROUTINES\r\n",
                "WHERE SPECIFIC_SCHEMA = N'dbo'\r\n",
                "    AND SPECIFIC_NAME = N'stp_soegenbog'\r\n",
                ")\r\n",
                "DROP PROCEDURE dbo.stp_soegenbog\r\n",
                "GO\r\n",
                "\r\n",
                "CREATE PROCEDURE stp_soegenbog @Title NVARCHAR(50), @ISBN13 NVARCHAR(13)\r\n",
                "AS\r\n",
                "    SELECT Title, Sales_price, ISBN13, Category, Summary, ISNULL(First_name + ' ', '') + ISNULL(Surname, '') AS Author\r\n",
                "    FROM bogogforfatter\r\n",
                "    JOIN bog ON bog.ID = bogogforfatter.BogID\r\n",
                "    JOIN Kategori ON Kategori.ID = bog.CategoryID\r\n",
                "    JOIN Forfatter ON Forfatter.ID = bogogforfatter.ForfatterID\n",
                "    WHERE Title LIKE '%' + @Title + '%' AND ISBN13 LIKE '%' + @ISBN13 + '%' \r\n",
                "GO\r\n",
                "\r\n",
                "EXEC stp_soegenbog @Title = 'dry', @ISBN13 = ''\r\n",
                ""
            ],
            "metadata": {
                "azdata_cell_guid": "02f53623-b544-4da9-993e-7fe4e999a6c0"
            },
            "outputs": [
{
    "output_type": "display_data",
    "data": {
        "text/html": "Commands completed successfully."
    },
    "metadata": {}
}, {
    "output_type": "display_data",
    "data": {
        "text/html": "Commands completed successfully."
    },
    "metadata": {}
}, {
    "output_type": "display_data",
    "data": {
        "text/html": "(1 row affected)"
    },
    "metadata": {}
}, {
    "output_type": "display_data",
    "data": {
        "text/html": "Total execution time: 00:00:00.005"
    },
    "metadata": {}
}, {
    "output_type": "execute_result",
    "metadata": {},
    "execution_count": 45,
    "data": {
        "application/vnd.dataresource+json": {
            "schema": {
                "fields": [
                    {
                        "name": "Title"
                    },
                    {
                        "name": "Sales_price"
                    },
                    {
                        "name": "ISBN13"
                    },
                    {
                        "name": "Category"
                    },
                    {
                        "name": "Summary"
                    },
                    {
                        "name": "Author"
                    }
                ]
            },
            "data": [
                {
                    "0": "The dry sea",
                    "1": "300,99",
                    "2": "9781234567425",
                    "3": "Philosophy",
                    "4": "Et harum quidem rerum facilis est et expedita distinctio. Nam libero tempore, cum soluta nobis est eligendi optio cumque nihil impedit quo minus id quod maxime placeat facere possimus, omnis voluptas assumenda est, omnis dolor repellendus.",
                    "5": "John Smith"
                }
            ]
        },
        "text/html": [
            "<table>",
            "<tr><th>Title</th><th>Sales_price</th><th>ISBN13</th><th>Category</th><th>Summary</th><th>Author</th></tr>",
            "<tr><td>The dry sea</td><td>300,99</td><td>9781234567425</td><td>Philosophy</td><td>Et harum quidem rerum facilis est et expedita distinctio. Nam libero tempore, cum soluta nobis est eligendi optio cumque nihil impedit quo minus id quod maxime placeat facere possimus, omnis voluptas assumenda est, omnis dolor repellendus.</td><td>John Smith</td></tr>",
            "</table>"
        ]
    }
}
],
            "execution_count": 35
        }
    ]
}