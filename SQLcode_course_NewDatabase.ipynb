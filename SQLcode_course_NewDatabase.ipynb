{
    "metadata": {
        "kernelspec": {
            "name": "SQL",
            "display_name": "SQL",
            "language": "sql"
        },
        "language_info": {
            "name": "sql",
            "version": ""
        }
    },
    "nbformat_minor": 2,
    "nbformat": 4,
    "cells": [
        {
            "cell_type": "markdown",
            "source": [
                "# Opret og slet en database"
            ],
            "metadata": {
                "azdata_cell_guid": "8587dcd1-bf05-4954-9536-fbcc5a428533"
            }
        },
        {
            "cell_type": "code",
            "source": [
                "-- Drop the database 'testDatabaseDimi'\r\n",
                "-- Connect to the 'master' database to run this snippet\r\n",
                "USE master\r\n",
                "GO\r\n",
                "-- Uncomment the ALTER DATABASE statement below to set the database to SINGLE_USER mode if the drop database command fails because the database is in use.\r\n",
                "-- ALTER DATABASE testDatabaseDimi SET SINGLE_USER WITH ROLLBACK IMMEDIATE;\r\n",
                "-- Drop the database if it exists\r\n",
                "IF EXISTS (\r\n",
                "    SELECT [name]\r\n",
                "        FROM sys.databases\r\n",
                "        WHERE [name] = N'testDatabaseDimi'\r\n",
                ")\r\n",
                "DROP DATABASE testDatabaseDimi\r\n",
                "GO"
            ],
            "metadata": {
                "azdata_cell_guid": "b0e4bc90-f5f0-4b4a-872b-8ff4f751d468"
            },
            "outputs": [],
            "execution_count": null
        },
        {
            "cell_type": "code",
            "source": [
                "-- Create a new database called 'testDatabaseDimi'\r\n",
                "-- Connect to the 'master' database to run this snippet\r\n",
                "USE master\r\n",
                "GO\r\n",
                "-- Create the new database if it does not exist already\r\n",
                "IF NOT EXISTS (\r\n",
                "    SELECT [name]\r\n",
                "        FROM sys.databases\r\n",
                "        WHERE [name] = N'testDatabaseDimi'\r\n",
                ")\r\n",
                "CREATE DATABASE testDatabaseDimi\r\n",
                "GO"
            ],
            "metadata": {
                "azdata_cell_guid": "b034ced1-5818-4af6-b5a6-442c88dcaa48"
            },
            "outputs": [],
            "execution_count": null
        },
        {
            "cell_type": "markdown",
            "source": [
                "# Create tables (primary and foreign keys)"
            ],
            "metadata": {
                "azdata_cell_guid": "ed5c3035-4127-4f9e-affd-aa1e4230acf7"
            }
        },
        {
            "cell_type": "code",
            "source": [
                "-- Create a new table called '[Country]' in schema '[dbo]'\r\n",
                "\r\n",
                "USE [testDatabaseDimi]\r\n",
                "\r\n",
                "-- Drop the table if it already exists\r\n",
                "IF OBJECT_ID('[dbo].[Country]', 'U') IS NOT NULL\r\n",
                "DROP TABLE [dbo].[Country]\r\n",
                "GO\r\n",
                "\r\n",
                "CREATE TABLE [dbo].[Country]\r\n",
                "(\r\n",
                "    [Id] INT IDENTITY(1,1) NOT NULL PRIMARY KEY, \r\n",
                "    [CountryName] NVARCHAR(50) NOT NULL,\r\n",
                ");\r\n",
                "GO"
            ],
            "metadata": {
                "azdata_cell_guid": "c34366df-3e47-4b29-851d-a0a991e58f19"
            },
            "outputs": [
                {
                    "output_type": "display_data",
                    "data": {
                        "text/html": "Commands completed successfully."
                    },
                    "metadata": {}
                },
                {
                    "output_type": "display_data",
                    "data": {
                        "text/html": "Commands completed successfully."
                    },
                    "metadata": {}
                },
                {
                    "output_type": "display_data",
                    "data": {
                        "text/html": "Total execution time: 00:00:00.001"
                    },
                    "metadata": {}
                }
            ],
            "execution_count": 14
        },
        {
            "cell_type": "code",
            "source": [
                "-- Insert rows into table 'Country' in schema '[dbo]'\r\n",
                "INSERT INTO [dbo].[Country]\r\n",
                "( \r\n",
                " [CountryName]\r\n",
                ")\r\n",
                "VALUES\r\n",
                "( \r\n",
                "    'France'\r\n",
                "),\r\n",
                "( \r\n",
                "    'Germany'\r\n",
                "),\r\n",
                "(\r\n",
                "    'Denmark'\r\n",
                ")\r\n",
                "\r\n",
                "GO"
            ],
            "metadata": {
                "azdata_cell_guid": "afa6c283-cda7-4add-a031-2c0cc1bdfa03"
            },
            "outputs": [
                {
                    "output_type": "display_data",
                    "data": {
                        "text/html": "(3 rows affected)"
                    },
                    "metadata": {}
                },
                {
                    "output_type": "display_data",
                    "data": {
                        "text/html": "Total execution time: 00:00:00.001"
                    },
                    "metadata": {}
                }
            ],
            "execution_count": 16
        },
        {
            "cell_type": "code",
            "source": [
                "-- Create a new table called '[City]' in schema '[dbo]'\r\n",
                "\r\n",
                "USE [testDatabaseDimi]\r\n",
                "\r\n",
                "-- Drop the table if it already exists\r\n",
                "IF OBJECT_ID('[dbo].[City]', 'U') IS NOT NULL\r\n",
                "DROP TABLE [dbo].[City]\r\n",
                "GO\r\n",
                "\r\n",
                "CREATE TABLE [dbo].[City]\r\n",
                "\r\n",
                "(\r\n",
                "    [Id] INT IDENTITY(1,1) NOT NULL PRIMARY KEY, \r\n",
                "    [CityName] NVARCHAR(50) NOT NULL,\r\n",
                "    [CountryID] INT FOREIGN KEY REFERENCES Country(Id)\r\n",
                ");\r\n",
                "GO\r\n",
                ""
            ],
            "metadata": {
                "azdata_cell_guid": "42ee4c59-9b9f-4c87-8d4d-66e213dfbb31",
                "tags": []
            },
            "outputs": [
                {
                    "output_type": "display_data",
                    "data": {
                        "text/html": "Commands completed successfully."
                    },
                    "metadata": {}
                },
                {
                    "output_type": "display_data",
                    "data": {
                        "text/html": "Commands completed successfully."
                    },
                    "metadata": {}
                },
                {
                    "output_type": "display_data",
                    "data": {
                        "text/html": "Total execution time: 00:00:00.002"
                    },
                    "metadata": {}
                }
            ],
            "execution_count": 17
        },
        {
            "cell_type": "code",
            "source": [
                "-- Insert rows into table 'City' in schema '[dbo]'\r\n",
                "\r\n",
                "INSERT INTO [dbo].[City]\r\n",
                "( \r\n",
                " [CityName], [CountryID]\r\n",
                ")\r\n",
                "VALUES\r\n",
                "( \r\n",
                "    'Copenhagen', 3\r\n",
                "),\r\n",
                "( \r\n",
                "    'Berlin', 2\r\n",
                "),\r\n",
                "(\r\n",
                "    'Paris', 1\r\n",
                ")\r\n",
                "GO"
            ],
            "metadata": {
                "azdata_cell_guid": "fcbc6a29-769e-4c5c-a69c-866a04812040"
            },
            "outputs": [
                {
                    "output_type": "display_data",
                    "data": {
                        "text/html": "(3 rows affected)"
                    },
                    "metadata": {}
                },
                {
                    "output_type": "display_data",
                    "data": {
                        "text/html": "Total execution time: 00:00:00.003"
                    },
                    "metadata": {}
                }
            ],
            "execution_count": 18
        },
        {
            "cell_type": "markdown",
            "source": [
                "# GUID uniqueidentifier"
            ],
            "metadata": {
                "azdata_cell_guid": "a738e2c4-1efd-491b-8824-d97a04d04019"
            }
        },
        {
            "cell_type": "code",
            "source": [
                " -- GUID primary key - arbitrary unique value for table\r\n",
                " \n",
                " -- Drop the table if it already exists\n",
                "IF OBJECT_ID('[dbo].[person]', 'U') IS NOT NULL\n",
                "DROP TABLE [dbo].[person]\n",
                "GO\n",
                "\n",
                " \n",
                "CREATE TABLE person (\r\n",
                "id UNIQUEIDENTIFIER default (newId()) PRIMARY KEY,\r\n",
                "firstName NVARCHAR(100) NOT NULL,\r\n",
                "lastName NVARCHAR(100) NOT NULL\r\n",
                ")"
            ],
            "metadata": {
                "azdata_cell_guid": "404ed7b4-8522-475e-804f-44d3b3c5b31e"
            },
            "outputs": [
{
    "output_type": "display_data",
    "data": {
        "text/html": "Commands completed successfully."
    },
    "metadata": {}
}, {
    "output_type": "display_data",
    "data": {
        "text/html": "Commands completed successfully."
    },
    "metadata": {}
}, {
    "output_type": "display_data",
    "data": {
        "text/html": "Total execution time: 00:00:00.001"
    },
    "metadata": {}
}
],
            "execution_count": 19
        },
        {
            "cell_type": "code",
            "source": [
                "-- Insert rows into table 'person' in schema '[dbo]'\r\n",
                "\r\n",
                "INSERT INTO [dbo].[person]\r\n",
                "( \r\n",
                " [firstName], [lastName]\r\n",
                ")\r\n",
                "VALUES\r\n",
                "( \r\n",
                "    'Dimi', 'Torssøn'\r\n",
                "),\r\n",
                "( \r\n",
                "  \n",
                "(\n",
                "    'Δημήτριος', 'Χαντζιάρας'\n",
                "),  'ÆØÅ', 'Andersen'\r\n",
                "),\r\n",
                "(\r\n"N,N
                "    'Δημήτριος', 'Χαντζιάρας'\r\n",
                ")\r\n",
                "\n",
                "\n",
                "SELECT TOP (1000) [id]\n",
                "      ,[firstName]\n",
                "      ,[lastName]\n",
                "  FROM [testDatabaseDimi].[dbo].[person]\n",
                "GO"
            ],
            "metadata": {
                "azdata_cell_guid": "56858821-4940-429d-a257-24ad81a8b688"
            },
            "outputs": [
{
    "output_type": "display_data",
    "data": {
        "text/html": "(4 rows affected)"
    },
    "metadata": {}
}, {
    "output_type": "display_data",
    "data": {
        "text/html": "(4 rows affected)"
    },
    "metadata": {}
}, {
    "output_type": "display_data",
    "data": {
        "text/html": "Total execution time: 00:00:00.003"
    },
    "metadata": {}
}, {
    "output_type": "execute_result",
    "metadata": {},
    "execution_count": 24,
    "data": {
        "application/vnd.dataresource+json": {
            "schema": {
                "fields": [
                    {
                        "name": "id"
                    },
                    {
                        "name": "firstName"
                    },
                    {
                        "name": "lastName"
                    }
                ]
            },
            "data": [
                {
                    "0": "537cdb1e-a0c6-449c-8897-295b8c5769e5",
                    "1": "ÆØÅ",
                    "2": "Andersen"
                },
                {
                    "0": "5efed00b-84b0-44e1-805a-563f10d21c07",
                    "1": "Dimi",
                    "2": "Torssøn"
                },
                {
                    "0": "fa2d790e-0698-4328-becf-68c6cfa0c675",
                    "1": "??µ?t????",
                    "2": "?a?t????a?"
                },
                {
                    "0": "ec605f44-4561-4e2d-ad37-d8993a4186eb",
                    "1": "Δημήτριος",
                    "2": "Χαντζιάρας"
                }
            ]
        },
        "text/html": [
            "<table>",
            "<tr><th>id</th><th>firstName</th><th>lastName</th></tr>",
            "<tr><td>537cdb1e-a0c6-449c-8897-295b8c5769e5</td><td>ÆØÅ</td><td>Andersen</td></tr>",
            "<tr><td>5efed00b-84b0-44e1-805a-563f10d21c07</td><td>Dimi</td><td>Torssøn</td></tr>",
            "<tr><td>fa2d790e-0698-4328-becf-68c6cfa0c675</td><td>??µ?t????</td><td>?a?t????a?</td></tr>",
            "<tr><td>ec605f44-4561-4e2d-ad37-d8993a4186eb</td><td>Δημήτριος</td><td>Χαντζιάρας</td></tr>",
            "</table>"
        ]
    }
}
],
            "execution_count": 20
        },
        {
            "cell_type": "code",
            "source": [
                ""
            ],
            "metadata": {
                "azdata_cell_guid": "463a7c48-79c6-4f07-bdb8-849d8af060dd"
            },
            "outputs": [],
            "execution_count": null
        },
        {
            "cell_type": "code",
            "source": [
                ""
            ],
            "metadata": {
                "azdata_cell_guid": "f09d4b75-7d69-4f74-a77a-e73546f1f5f4"
            },
            "outputs": [],
            "execution_count": null
        },
        {
            "cell_type": "code",
            "source": [
                ""
            ],
            "metadata": {
                "azdata_cell_guid": "c53b3325-d427-477e-9b81-d7f92c5963ba"
            },
            "outputs": [],
            "execution_count": null
        },
        {
            "cell_type": "code",
            "source": [
                ""
            ],
            "metadata": {
                "azdata_cell_guid": "69ab32e1-d41b-49e6-ae73-1f382d9954d7"
            },
            "outputs": [],
            "execution_count": null
        },
        {
            "cell_type": "code",
            "source": [
                ""
            ],
            "metadata": {
                "azdata_cell_guid": "2f661041-fdc4-463b-a904-44aa89e94702"
            },
            "outputs": [],
            "execution_count": null
        }
    ]
}